{
 "cells": [
  {
   "cell_type": "markdown",
   "id": "7d35ccb4",
   "metadata": {},
   "source": [
    "# Question 1\n",
    "**Q:** Explain the key features of Python that make it a popular choice for programming.\n",
    "\n",
    "## Answer\n",
    "Python is a high-level, interpreted language known for readable syntax, dynamic typing, a large standard library, strong ecosystem of third-party packages, and fast development speed. It supports multiple programming paradigms (procedural, OOP, functional) and has extensive community support."
   ]
  },
  {
   "cell_type": "markdown",
   "id": "d91d80ee",
   "metadata": {},
   "source": [
    "### Example\n",
    "A short code example showing readability, dynamic typing and standard library usage:"
   ]
  },
  {
   "cell_type": "code",
   "execution_count": null,
   "id": "e5ab68b5",
   "metadata": {},
   "outputs": [],
   "source": [
    "# Readability & dynamic typing\n",
    "x = 42          # integer now\n",
    "print(\"x:\", x, type(x))\n",
    "x = \"forty-two\" # now a string\n",
    "print(\"x:\", x, type(x))\n",
    "\n",
    "# Standard library example\n",
    "import math\n",
    "print(\"cos(pi) =\", math.cos(math.pi))"
   ]
  },
  {
   "cell_type": "markdown",
   "id": "a3e434de",
   "metadata": {},
   "source": [
    "# Question 2\n",
    "**Q:** Describe the role of predefined keywords in Python and provide a concise explanation.\n",
    "\n",
    "## Answer\n",
    "Keywords are reserved words that have special meaning in Python's syntax (e.g., `if`, `for`, `def`, `class`, `import`, `return`). They cannot be used as variable names because they define the structure and control flow of programs."
   ]
  },
  {
   "cell_type": "markdown",
   "id": "6941b45c",
   "metadata": {},
   "source": [
    "### Example\n",
    "Using a few keywords (`def`, `if`, `for`, `return`) in a simple function:"
   ]
  },
  {
   "cell_type": "code",
   "execution_count": null,
   "id": "7de335ca",
   "metadata": {},
   "outputs": [],
   "source": [
    "def is_even(n):\n",
    "    if n % 2 == 0:\n",
    "        return True\n",
    "    else:\n",
    "        return False\n",
    "\n",
    "for i in range(1,6):\n",
    "    print(i, \"even?\" , is_even(i))"
   ]
  },
  {
   "cell_type": "markdown",
   "id": "2bccf7e7",
   "metadata": {},
   "source": [
    "# Question 3\n",
    "**Q:** Compare and contrast mutable and immutable objects in Python with a short explanation.\n",
    "\n",
    "## Answer\n",
    "Immutable objects (like `int`, `float`, `str`, `tuple`) cannot be changed after creation—assigning a new value creates a new object. Mutable objects (like `list`, `dict`, `set`) can be changed in place without creating a new object reference."
   ]
  },
  {
   "cell_type": "markdown",
   "id": "9cc11883",
   "metadata": {},
   "source": [
    "### Example\n",
    "Show id changes for immutable vs same id for mutated mutable:"
   ]
  },
  {
   "cell_type": "code",
   "execution_count": null,
   "id": "92211a5d",
   "metadata": {},
   "outputs": [],
   "source": [
    "# Immutable example (int)\n",
    "a = 10\n",
    "print(\"a id before:\", id(a))\n",
    "a += 1\n",
    "print(\"a id after:\", id(a))\n",
    "\n",
    "# Mutable example (list)\n",
    "lst = [1,2]\n",
    "print(\"lst id before:\", id(lst))\n",
    "lst.append(3)\n",
    "print(\"lst id after:\", id(lst))"
   ]
  },
  {
   "cell_type": "markdown",
   "id": "d7667f3d",
   "metadata": {},
   "source": [
    "# Question 4\n",
    "**Q:** Discuss the different types of operators in Python and give a brief example for one or two operator types.\n",
    "\n",
    "## Answer\n",
    "Python operators include arithmetic, comparison, logical, assignment, bitwise, membership, and identity operators. They allow computations, comparisons, boolean logic, and more."
   ]
  },
  {
   "cell_type": "markdown",
   "id": "4d52127f",
   "metadata": {},
   "source": [
    "### Example\n",
    "Arithmetic and logical operator examples:"
   ]
  },
  {
   "cell_type": "code",
   "execution_count": null,
   "id": "b092369f",
   "metadata": {},
   "outputs": [],
   "source": [
    "# Arithmetic\n",
    "print(\"5 + 2 =\", 5+2, \"5 ** 2 =\", 5**2)\n",
    "\n",
    "# Logical\n",
    "print(\"True and False:\", True and False, \"not True:\", not True)"
   ]
  },
  {
   "cell_type": "markdown",
   "id": "e66802eb",
   "metadata": {},
   "source": [
    "# Question 5\n",
    "**Q:** Explain the concept of type casting in Python with a concise description.\n",
    "\n",
    "## Answer\n",
    "Type casting (or type conversion) is converting a value from one data type to another using constructors like `int()`, `float()`, `str()`, `list()`. Implicit casting happens automatically; explicit casting is done by the programmer."
   ]
  },
  {
   "cell_type": "markdown",
   "id": "eba82463",
   "metadata": {},
   "source": [
    "### Example\n",
    "Convert strings to numbers and handle invalid conversions:"
   ]
  },
  {
   "cell_type": "code",
   "execution_count": null,
   "id": "d657ed0e",
   "metadata": {},
   "outputs": [],
   "source": [
    "print(int(\"123\"))   # -> 123\n",
    "print(float(\"3.14\")) # -> 3.14\n",
    "\n",
    "# Safe casting with try/except\n",
    "for v in [\"10\", \"3.5\", \"abc\"]:\n",
    "    try:\n",
    "        print(v, \"->\", int(v))\n",
    "    except ValueError:\n",
    "        print(v, \"cannot be cast to int\")"
   ]
  },
  {
   "cell_type": "markdown",
   "id": "773da35a",
   "metadata": {},
   "source": [
    "# Question 6\n",
    "**Q:** How do conditional statements work in Python? Illustrate with a short explanation.\n",
    "\n",
    "## Answer\n",
    "Conditional statements (`if`, `elif`, `else`) execute code branches depending on boolean expressions. The first true condition's block runs; if none match, `else` runs (if present)."
   ]
  },
  {
   "cell_type": "markdown",
   "id": "a599c7d1",
   "metadata": {},
   "source": [
    "### Example\n",
    "Simple grading logic using if/elif/else:"
   ]
  },
  {
   "cell_type": "code",
   "execution_count": null,
   "id": "03dba4cb",
   "metadata": {},
   "outputs": [],
   "source": [
    "def simple_grade(score):\n",
    "    if score >= 90:\n",
    "        return \"A\"\n",
    "    elif score >= 75:\n",
    "        return \"B\"\n",
    "    elif score >= 60:\n",
    "        return \"C\"\n",
    "    else:\n",
    "        return \"F\"\n",
    "\n",
    "print(\"Score 88 ->\", simple_grade(88))"
   ]
  },
  {
   "cell_type": "markdown",
   "id": "b57e7c5b",
   "metadata": {},
   "source": [
    "# Question 7\n",
    "**Q:** Describe the different types of loops in Python and their typical use cases.\n",
    "\n",
    "## Answer\n",
    "`for` loops iterate over sequences (lists, ranges, strings) and are used when you have a known collection. `while` loops repeat while a condition remains true and are used when the number of iterations is not known in advance. `break` and `continue` control loop flow."
   ]
  },
  {
   "cell_type": "markdown",
   "id": "0e10a5ff",
   "metadata": {},
   "source": [
    "### Example\n",
    "A `for` loop over a list and a `while` loop counting down:"
   ]
  },
  {
   "cell_type": "code",
   "execution_count": null,
   "id": "68f8f4a8",
   "metadata": {},
   "outputs": [],
   "source": [
    "# for loop\n",
    "for i, ch in enumerate(\"abc\"):\n",
    "    print(\"for:\", i, ch)\n",
    "\n",
    "# while loop\n",
    "n = 3\n",
    "while n > 0:\n",
    "    print(\"while:\", n)\n",
    "    n -= 1"
   ]
  }
 ],
 "metadata": {
  "language_info": {
   "name": "python"
  }
 },
 "nbformat": 4,
 "nbformat_minor": 5
}

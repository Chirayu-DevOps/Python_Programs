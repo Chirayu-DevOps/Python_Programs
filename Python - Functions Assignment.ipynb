{
 "cells": [
  {
   "cell_type": "markdown",
   "id": "5f43a189",
   "metadata": {},
   "source": [
    "# Python Assignment — Functions Assignment"
   ]
  },
  {
   "cell_type": "markdown",
   "id": "a6e83f94",
   "metadata": {},
   "source": [
    "### Q: 1. What is the difference between a function and a method in Python?\n",
    "\n",
    "**A:** A function is a standalone block of code defined with `def` that can be called by name. A method is a function that belongs to an object (defined inside a class) and is called on that object.\n",
    "\n",
    "**Example:**\n",
    "Example: Function: `def add(a,b): return a+b`  Method: `class C: def m(self): pass; C().m()`"
   ]
  },
  {
   "cell_type": "markdown",
   "id": "5b92385a",
   "metadata": {},
   "source": [
    "### Q: 2. Explain the concept of function arguments and parameters in Python.\n",
    "\n",
    "**A:** Parameters are the variable names in a function definition. Arguments are the actual values passed to the function when you call it.\n",
    "\n",
    "**Example:**\n",
    "Example: `def f(x, y=2):` — `x` and `y` are parameters. `f(3)` passes argument `3` for `x`."
   ]
  },
  {
   "cell_type": "markdown",
   "id": "70e8add2",
   "metadata": {},
   "source": [
    "### Q: 3. What are the different ways to define and call a function in Python?\n",
    "\n",
    "**A:** You can define a function using `def` or `lambda` (for small anonymous functions). Call by position, by keyword, or with `*args`/`**kwargs` for variable arguments.\n",
    "\n",
    "**Example:**\n",
    "Example: `def f(a,b):` call as `f(1,2)` or `f(b=2,a=1)`. Lambda: `g = lambda x: x*2; g(3)`"
   ]
  },
  {
   "cell_type": "markdown",
   "id": "d3d28b84",
   "metadata": {},
   "source": [
    "### Q: 4. What is the purpose of the `return` statement in a Python function?\n",
    "\n",
    "**A:** `return` sends a value back to the caller. If no `return` is used, the function returns `None`.\n",
    "\n",
    "**Example:**\n",
    "Example: `def add(a,b): return a+b` — calling `add(1,2)` gives `3`."
   ]
  },
  {
   "cell_type": "markdown",
   "id": "8e5c5ba0",
   "metadata": {},
   "source": [
    "### Q: 5. What are iterators in Python and how do they differ from iterables?\n",
    "\n",
    "**A:** An iterable is an object you can loop over (like list, tuple). An iterator is an object that produces the next item on demand (has `__next__()`), often created from an iterable using `iter()`.\n",
    "\n",
    "**Example:**\n",
    "Example: `lst=[1,2]; it=iter(lst); next(it)` returns `1`."
   ]
  },
  {
   "cell_type": "markdown",
   "id": "1de8f70f",
   "metadata": {},
   "source": [
    "### Q: 6. Explain the concept of generators in Python and how they are defined.\n",
    "\n",
    "**A:** Generators are functions that yield values one at a time using the `yield` keyword. They return an iterator and are memory-efficient for producing sequences.\n",
    "\n",
    "**Example:**\n",
    "Example: `def gen(): yield 1; yield 2` then `for x in gen(): print(x)`"
   ]
  },
  {
   "cell_type": "markdown",
   "id": "5286da39",
   "metadata": {},
   "source": [
    "### Q: 7. What are the advantages of using generators over regular functions?\n",
    "\n",
    "**A:** Generators use less memory because they yield items lazily, can represent infinite sequences, and are simpler to write than full iterator classes.\n",
    "\n",
    "**Example:**\n",
    "Example: Using a generator to iterate large ranges instead of creating large lists."
   ]
  },
  {
   "cell_type": "markdown",
   "id": "eda8b5f9",
   "metadata": {},
   "source": [
    "### Q: 8. What is a lambda function in Python and when is it typically used?\n",
    "\n",
    "**A:** A lambda is an anonymous one-line function defined with `lambda` keyword, used for short simple functions, often as arguments to functions like `map` or `sorted`.\n",
    "\n",
    "**Example:**\n",
    "Example: `sorted(lst, key=lambda x: x[1])` sorts by second element."
   ]
  },
  {
   "cell_type": "markdown",
   "id": "3f8fac97",
   "metadata": {},
   "source": [
    "### Q: 9. Explain the purpose and usage of the `map()` function in Python.\n",
    "\n",
    "**A:** `map()` applies a function to each item of an iterable and returns an iterator of results. Useful for transforming data without explicit loops.\n",
    "\n",
    "**Example:**\n",
    "Example: `map(lambda x: x*2, [1,2,3])` yields `2,4,6`."
   ]
  },
  {
   "cell_type": "markdown",
   "id": "ee4bb103",
   "metadata": {},
   "source": [
    "### Q: 10. What is the difference between `map()`, `reduce()`, and `filter()` functions in Python?\n",
    "\n",
    "**A:** `map()` transforms each item with a function. `filter()` selects items that match a predicate. `reduce()` (in `functools`) reduces a sequence to a single value by applying a function cumulatively.\n",
    "\n",
    "**Example:**\n",
    "Example: `map(lambda x:x+1, ...)`, `filter(lambda x:x%2==0, ...)`, `reduce(lambda a,b: a+b, [1,2,3])`"
   ]
  },
  {
   "cell_type": "markdown",
   "id": "3410f070",
   "metadata": {},
   "source": [
    "## Practical Questions — Solutions (run each cell)"
   ]
  },
  {
   "cell_type": "code",
   "execution_count": null,
   "id": "8db9e0ca",
   "metadata": {},
   "outputs": [],
   "source": [
    "def sum_even(numbers):\n",
    "    return sum(x for x in numbers if x % 2 == 0)\n",
    "\n",
    "print(sum_even([1,2,3,4,5,6]))  # Output: 12"
   ]
  },
  {
   "cell_type": "code",
   "execution_count": null,
   "id": "44ee0e90",
   "metadata": {},
   "outputs": [],
   "source": [
    "def reverse_string(s):\n",
    "    return s[::-1]\n",
    "\n",
    "print(reverse_string('hello'))  # Output: 'olleh'"
   ]
  },
  {
   "cell_type": "code",
   "execution_count": null,
   "id": "43fd84d1",
   "metadata": {},
   "outputs": [],
   "source": [
    "def squares(nums):\n",
    "    return [x*x for x in nums]\n",
    "\n",
    "print(squares([1,2,3,4]))  # Output: [1,4,9,16]"
   ]
  },
  {
   "cell_type": "code",
   "execution_count": null,
   "id": "d341ba74",
   "metadata": {},
   "outputs": [],
   "source": [
    "def is_prime(n):\n",
    "    if n <= 1:\n",
    "        return False\n",
    "    if n <= 3:\n",
    "        return True\n",
    "    if n % 2 == 0:\n",
    "        return False\n",
    "    i = 3\n",
    "    while i*i <= n:\n",
    "        if n % i == 0:\n",
    "            return False\n",
    "        i += 2\n",
    "    return True\n",
    "\n",
    "# Example: list primes from 1 to 50\n",
    "print([x for x in range(1,51) if is_prime(x)])"
   ]
  },
  {
   "cell_type": "code",
   "execution_count": null,
   "id": "cde534ce",
   "metadata": {},
   "outputs": [],
   "source": [
    "class FibIterator:\n",
    "    def __init__(self, n_terms):\n",
    "        self.n = n_terms\n",
    "        self.i = 0\n",
    "        self.a, self.b = 0, 1\n",
    "    def __iter__(self):\n",
    "        return self\n",
    "    def __next__(self):\n",
    "        if self.i >= self.n:\n",
    "            raise StopIteration\n",
    "        self.i += 1\n",
    "        val = self.a\n",
    "        self.a, self.b = self.b, self.a + self.b\n",
    "        return val\n",
    "\n",
    "# Example: first 7 Fibonacci numbers\n",
    "print(list(FibIterator(7)))"
   ]
  },
  {
   "cell_type": "code",
   "execution_count": null,
   "id": "f9bae7df",
   "metadata": {},
   "outputs": [],
   "source": [
    "def gen_powers_of_two(exp):\n",
    "    for e in range(exp+1):\n",
    "        yield 2**e\n",
    "\n",
    "# Example: powers up to 5\n",
    "print(list(gen_powers_of_two(5)))"
   ]
  },
  {
   "cell_type": "code",
   "execution_count": null,
   "id": "82eccfb9",
   "metadata": {},
   "outputs": [],
   "source": [
    "def file_line_generator(path):\n",
    "    with open(path, 'r', encoding='utf-8') as f:\n",
    "        for line in f:\n",
    "            yield line.rstrip('\\n')\n",
    "\n",
    "# Example: create a temporary file and read it\n",
    "path = '/mnt/data/example_lines.txt'\n",
    "with open(path, 'w', encoding='utf-8') as f:\n",
    "    f.write('line1\\nline2\\nline3\\n')\n",
    "\n",
    "for ln in file_line_generator(path):\n",
    "    print(ln)"
   ]
  },
  {
   "cell_type": "code",
   "execution_count": null,
   "id": "bece242a",
   "metadata": {},
   "outputs": [],
   "source": [
    "tuples = [(1, 'b'), (2, 'a'), (3, 'c')]\n",
    "sorted_by_second = sorted(tuples, key=lambda x: x[1])\n",
    "print(sorted_by_second)  # Output: [(2,'a'), (1,'b'), (3,'c')]"
   ]
  },
  {
   "cell_type": "code",
   "execution_count": null,
   "id": "f4d76f48",
   "metadata": {},
   "outputs": [],
   "source": [
    "def c_to_f(c):\n",
    "    return (c * 9/5) + 32\n",
    "\n",
    "c_list = [0, 20, 37]\n",
    "f_list = list(map(c_to_f, c_list))\n",
    "print(f_list)  # Output: [32.0, 68.0, 98.6]"
   ]
  },
  {
   "cell_type": "code",
   "execution_count": null,
   "id": "ae6d9b4e",
   "metadata": {},
   "outputs": [],
   "source": [
    "def remove_vowels(s):\n",
    "    vowels = set('aeiouAEIOU')\n",
    "    return ''.join(filter(lambda ch: ch not in vowels, s))\n",
    "\n",
    "print(remove_vowels('Hello World'))  # Output: 'Hll Wrld'"
   ]
  },
  {
   "cell_type": "code",
   "execution_count": null,
   "id": "6da42398",
   "metadata": {},
   "outputs": [],
   "source": [
    "# Example orders: each sublist contains [order_number, price_per_item, quantity]\n",
    "orders = [\n",
    "    [1001, 9.99, 5],   # total 49.95 -> < 100 so +10\n",
    "    [1002, 25.00, 4],  # total 100.00 -> not < 100 so no +10\n",
    "    [1003, 7.5, 2]     # total 15.0 -> +10\n",
    "]\n",
    "\n",
    "def process_orders(order_list):\n",
    "    # For each order, compute (order_number, adjusted_total)\n",
    "    def compute(o):\n",
    "        order_no, price, qty = o\n",
    "        total = price * qty\n",
    "        if total < 100:\n",
    "            total += 10.0\n",
    "        return (order_no, round(total, 2))\n",
    "    return list(map(lambda o: compute(o), order_list))\n",
    "\n",
    "print(process_orders(orders))\n",
    "# Output: [(1001, 59.95), (1002, 100.0), (1003, 25.0)]"
   ]
  }
 ],
 "metadata": {
  "language_info": {
   "name": "python"
  }
 },
 "nbformat": 4,
 "nbformat_minor": 5
}

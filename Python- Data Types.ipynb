{
 "cells": [
  {
   "cell_type": "markdown",
   "id": "bbbac941",
   "metadata": {},
   "source": [
    "# Data Types and Structures — Answers & Practical Solutions"
   ]
  },
  {
   "cell_type": "markdown",
   "id": "b8265e5e",
   "metadata": {},
   "source": [
    "### Q1: What are data structures, and why are they important?\n",
    "\n",
    "**A:** Data structures are ways to store and organize data so we can use it efficiently. They are important because they help programs run faster and use memory better."
   ]
  },
  {
   "cell_type": "markdown",
   "id": "927a213c",
   "metadata": {},
   "source": [
    "### Q2: Explain the difference between mutable and immutable data types with examples\n",
    "\n",
    "**A:** Mutable data types can be changed after creation (e.g., lists, dicts). Immutable types cannot be changed (e.g., integers, strings, tuples)."
   ]
  },
  {
   "cell_type": "markdown",
   "id": "c75fedf9",
   "metadata": {},
   "source": [
    "### Q3: What are the main differences between lists and tuples in Python\n",
    "\n",
    "**A:** Lists are mutable and can be changed; tuples are immutable and cannot be changed. Lists use square brackets, tuples use parentheses."
   ]
  },
  {
   "cell_type": "markdown",
   "id": "e1f18916",
   "metadata": {},
   "source": [
    "### Q4: Describe how dictionaries store data\n",
    "\n",
    "**A:** Dictionaries store data as key-value pairs. Each key maps to a value and keys must be unique and hashable."
   ]
  },
  {
   "cell_type": "markdown",
   "id": "637b0f56",
   "metadata": {},
   "source": [
    "### Q5: Why might you use a set instead of a list in Python\n",
    "\n",
    "**A:** Use a set when you need unique items and fast membership checks; sets automatically remove duplicates."
   ]
  },
  {
   "cell_type": "markdown",
   "id": "91808dd2",
   "metadata": {},
   "source": [
    "### Q6: What is a string in Python, and how is it different from a list\n",
    "\n",
    "**A:** A string is a sequence of characters (text). Unlike lists, strings hold characters and are immutable."
   ]
  },
  {
   "cell_type": "markdown",
   "id": "4edc1612",
   "metadata": {},
   "source": [
    "### Q7: How do tuples ensure data integrity in Python\n",
    "\n",
    "**A:** Tuples are immutable, so once created their contents cannot change; this prevents accidental modification."
   ]
  },
  {
   "cell_type": "markdown",
   "id": "b837e459",
   "metadata": {},
   "source": [
    "### Q8: What is a hash table, and how does it relate to dictionaries in Python\n",
    "\n",
    "**A:** A hash table is a data structure that maps keys to values using a hash function. Python dictionaries are implemented using hash tables."
   ]
  },
  {
   "cell_type": "markdown",
   "id": "c610a715",
   "metadata": {},
   "source": [
    "### Q9: Can lists contain different data types in Python\n",
    "\n",
    "**A:** Yes — lists can hold items of different types (e.g., integers, strings, objects)."
   ]
  },
  {
   "cell_type": "markdown",
   "id": "6e15eb09",
   "metadata": {},
   "source": [
    "### Q10: Explain why strings are immutable in Python\n",
    "\n",
    "**A:** Strings are immutable to make them safe to share, efficient, and hashable (so they can be used as dictionary keys)."
   ]
  },
  {
   "cell_type": "markdown",
   "id": "c5d9ebe6",
   "metadata": {},
   "source": [
    "### Q11: What advantages do dictionaries offer over lists for certain tasks\n",
    "\n",
    "**A:** Dictionaries offer fast lookup by key and allow mapping between keys and values, which is more efficient than searching a list for certain tasks."
   ]
  },
  {
   "cell_type": "markdown",
   "id": "ee3ab0ae",
   "metadata": {},
   "source": [
    "### Q12: Describe a scenario where using a tuple would be preferable over a list\n",
    "\n",
    "**A:** Use a tuple when you need a fixed collection of items that should not change, like coordinates or configuration values."
   ]
  },
  {
   "cell_type": "markdown",
   "id": "72809ad9",
   "metadata": {},
   "source": [
    "### Q13: How do sets handle duplicate values in Python\n",
    "\n",
    "**A:** Sets automatically discard duplicates; only unique elements are stored."
   ]
  },
  {
   "cell_type": "markdown",
   "id": "1a25fe28",
   "metadata": {},
   "source": [
    "### Q14: How does the “in” keyword work differently for lists and dictionaries\n",
    "\n",
    "**A:** For lists, `in` checks membership among values. For dictionaries, `in` checks keys (not values) by default."
   ]
  },
  {
   "cell_type": "markdown",
   "id": "26f48cea",
   "metadata": {},
   "source": [
    "### Q15: Can you modify the elements of a tuple? Explain why or why not\n",
    "\n",
    "**A:** No — tuples are immutable, so you cannot change their elements after creation."
   ]
  },
  {
   "cell_type": "markdown",
   "id": "e671592e",
   "metadata": {},
   "source": [
    "### Q16: What is a nested dictionary, and give an example of its use case\n",
    "\n",
    "**A:** A nested dictionary is a dictionary that contains other dictionaries as values. It is useful for structured data like records (e.g., storing users and their attributes)."
   ]
  },
  {
   "cell_type": "markdown",
   "id": "f12609b2",
   "metadata": {},
   "source": [
    "### Q17: Describe the time complexity of accessing elements in a dictionary\n",
    "\n",
    "**A:** Average-case time complexity for accessing by key is O(1) due to hash table implementation."
   ]
  },
  {
   "cell_type": "markdown",
   "id": "1dad1d99",
   "metadata": {},
   "source": [
    "### Q18: In what situations are lists preferred over dictionaries\n",
    "\n",
    "**A:** Use lists when order matters, you need duplicates, or you work with sequences and indexing by position."
   ]
  },
  {
   "cell_type": "markdown",
   "id": "5b86df3a",
   "metadata": {},
   "source": [
    "### Q19: Why are dictionaries considered unordered, and how does that affect data retrieval\n",
    "\n",
    "**A:** Historically dictionaries were unordered because they are hash-based; in modern Python insertion order is preserved but conceptually retrieval is by key, not by position. This means you access values by key, not by index."
   ]
  },
  {
   "cell_type": "markdown",
   "id": "8cb65575",
   "metadata": {},
   "source": [
    "### Q20: Explain the difference between a list and a dictionary in terms of data retrieval\n",
    "\n",
    "**A:** Lists retrieve items by index position (e.g., list[0]). Dictionaries retrieve values by key (e.g., dict['name'])."
   ]
  },
  {
   "cell_type": "markdown",
   "id": "8038c0e8",
   "metadata": {},
   "source": [
    "## Practical Questions — solutions (run each cell)"
   ]
  },
  {
   "cell_type": "code",
   "execution_count": null,
   "id": "e098e72d",
   "metadata": {},
   "outputs": [],
   "source": [
    "# 1. Create a string with your name and print it\n",
    "name = 'Your Name'\n",
    "print(name)"
   ]
  },
  {
   "cell_type": "code",
   "execution_count": null,
   "id": "520f1521",
   "metadata": {},
   "outputs": [],
   "source": [
    "# 2. Find the length of the string 'Hello World'\n",
    "s = 'Hello World'\n",
    "print(len(s))"
   ]
  },
  {
   "cell_type": "code",
   "execution_count": null,
   "id": "b3798a8a",
   "metadata": {},
   "outputs": [],
   "source": [
    "# 3. Slice the first 3 characters from 'Python Programming'\n",
    "s = 'Python Programming'\n",
    "print(s[:3])"
   ]
  },
  {
   "cell_type": "code",
   "execution_count": null,
   "id": "aede8fdb",
   "metadata": {},
   "outputs": [],
   "source": [
    "# 4. Convert the string 'hello' to uppercase\n",
    "print('hello'.upper())"
   ]
  },
  {
   "cell_type": "code",
   "execution_count": null,
   "id": "7f333b75",
   "metadata": {},
   "outputs": [],
   "source": [
    "# 5. Replace 'apple' with 'orange' in the string 'I like apple'\n",
    "s = 'I like apple'\n",
    "print(s.replace('apple', 'orange'))"
   ]
  },
  {
   "cell_type": "code",
   "execution_count": null,
   "id": "b3059d5a",
   "metadata": {},
   "outputs": [],
   "source": [
    "# 6. Create a list with numbers 1 to 5 and print it\n",
    "lst = [1,2,3,4,5]\n",
    "print(lst)"
   ]
  },
  {
   "cell_type": "code",
   "execution_count": null,
   "id": "703b3955",
   "metadata": {},
   "outputs": [],
   "source": [
    "# 7. Append the number 10 to the list [1,2,3,4]\n",
    "lst = [1,2,3,4]\n",
    "lst.append(10)\n",
    "print(lst)"
   ]
  },
  {
   "cell_type": "code",
   "execution_count": null,
   "id": "466e9dc5",
   "metadata": {},
   "outputs": [],
   "source": [
    "# 8. Remove the number 3 from the list [1,2,3,4,5]\n",
    "lst = [1,2,3,4,5]\n",
    "lst.remove(3)\n",
    "print(lst)"
   ]
  },
  {
   "cell_type": "code",
   "execution_count": null,
   "id": "d7944bbb",
   "metadata": {},
   "outputs": [],
   "source": [
    "# 9. Access the second element in the list ['a','b','c','d']\n",
    "lst = ['a','b','c','d']\n",
    "print(lst[1])"
   ]
  },
  {
   "cell_type": "code",
   "execution_count": null,
   "id": "617e4262",
   "metadata": {},
   "outputs": [],
   "source": [
    "# 10. Reverse the list [10,20,30,40,50]\n",
    "lst = [10,20,30,40,50]\n",
    "lst.reverse()\n",
    "print(lst)"
   ]
  },
  {
   "cell_type": "code",
   "execution_count": null,
   "id": "55bb6049",
   "metadata": {},
   "outputs": [],
   "source": [
    "# 11. Create a tuple with elements 100,200,300 and print it\n",
    "t = (100,200,300)\n",
    "print(t)"
   ]
  },
  {
   "cell_type": "code",
   "execution_count": null,
   "id": "fc44efca",
   "metadata": {},
   "outputs": [],
   "source": [
    "# 12. Access the second-to-last element of ('red','green','blue','yellow')\n",
    "t = ('red','green','blue','yellow')\n",
    "print(t[-2])"
   ]
  },
  {
   "cell_type": "code",
   "execution_count": null,
   "id": "b45cd79f",
   "metadata": {},
   "outputs": [],
   "source": [
    "# 13. Find the minimum number in the tuple (10,20,5,15)\n",
    "t = (10,20,5,15)\n",
    "print(min(t))"
   ]
  },
  {
   "cell_type": "code",
   "execution_count": null,
   "id": "9335700c",
   "metadata": {},
   "outputs": [],
   "source": [
    "# 14. Find the index of 'cat' in ('dog','cat','rabbit')\n",
    "t = ('dog','cat','rabbit')\n",
    "print(t.index('cat'))"
   ]
  },
  {
   "cell_type": "code",
   "execution_count": null,
   "id": "eb286216",
   "metadata": {},
   "outputs": [],
   "source": [
    "# 15. Create a tuple with three fruits and check if 'kiwi' is in it\n",
    "t = ('apple','banana','mango')\n",
    "print('kiwi' in t)"
   ]
  },
  {
   "cell_type": "code",
   "execution_count": null,
   "id": "b4c0ce47",
   "metadata": {},
   "outputs": [],
   "source": [
    "# 16. Create a set with elements 'a','b','c' and print it\n",
    "s = {'a','b','c'}\n",
    "print(s)"
   ]
  },
  {
   "cell_type": "code",
   "execution_count": null,
   "id": "9b2f21d7",
   "metadata": {},
   "outputs": [],
   "source": [
    "# 17. Clear all elements from the set {1,2,3,4,5}\n",
    "s = {1,2,3,4,5}\n",
    "s.clear()\n",
    "print(s)"
   ]
  },
  {
   "cell_type": "code",
   "execution_count": null,
   "id": "9bdab72a",
   "metadata": {},
   "outputs": [],
   "source": [
    "# 18. Remove the element 4 from the set {1,2,3,4}\n",
    "s = {1,2,3,4}\n",
    "s.discard(4)\n",
    "print(s)"
   ]
  },
  {
   "cell_type": "code",
   "execution_count": null,
   "id": "00f5f8c0",
   "metadata": {},
   "outputs": [],
   "source": [
    "# 19. Find the union of two sets {1,2,3} and {3,4,5}\n",
    "a = {1,2,3}\n",
    "b = {3,4,5}\n",
    "print(a.union(b))"
   ]
  },
  {
   "cell_type": "code",
   "execution_count": null,
   "id": "0a827018",
   "metadata": {},
   "outputs": [],
   "source": [
    "# 20. Find the intersection of two sets {1,2,3} and {2,3,4}\n",
    "a = {1,2,3}\n",
    "b = {2,3,4}\n",
    "print(a.intersection(b))"
   ]
  },
  {
   "cell_type": "code",
   "execution_count": null,
   "id": "998f3ddb",
   "metadata": {},
   "outputs": [],
   "source": [
    "# 21. Create a dictionary with keys 'name','age','city' and print it\n",
    "d = {'name':'John','age':25,'city':'NYC'}\n",
    "print(d)"
   ]
  },
  {
   "cell_type": "code",
   "execution_count": null,
   "id": "bf74f402",
   "metadata": {},
   "outputs": [],
   "source": [
    "# 22. Add 'country':'USA' to {'name':'John','age':25}\n",
    "d = {'name':'John','age':25}\n",
    "d['country'] = 'USA'\n",
    "print(d)"
   ]
  },
  {
   "cell_type": "code",
   "execution_count": null,
   "id": "7669963b",
   "metadata": {},
   "outputs": [],
   "source": [
    "# 23. Access value associated with key 'name' in {'name':'Alice','age':30}\n",
    "d = {'name':'Alice','age':30}\n",
    "print(d['name'])"
   ]
  },
  {
   "cell_type": "code",
   "execution_count": null,
   "id": "95508ef8",
   "metadata": {},
   "outputs": [],
   "source": [
    "# 24. Remove key 'age' from {'name':'Bob','age':22,'city':'New York'}\n",
    "d = {'name':'Bob','age':22,'city':'New York'}\n",
    "d.pop('age', None)\n",
    "print(d)"
   ]
  },
  {
   "cell_type": "code",
   "execution_count": null,
   "id": "69480f40",
   "metadata": {},
   "outputs": [],
   "source": [
    "# 25. Check if key 'city' exists in {'name':'Alice','city':'Paris'}\n",
    "d = {'name':'Alice','city':'Paris'}\n",
    "print('city' in d)"
   ]
  },
  {
   "cell_type": "code",
   "execution_count": null,
   "id": "d8770871",
   "metadata": {},
   "outputs": [],
   "source": [
    "# 26. Create a list, a tuple, and a dictionary, and print them all\n",
    "lst = [1,2,3]\n",
    "t = (4,5,6)\n",
    "d = {'a':1}\n",
    "print(lst)\n",
    "print(t)\n",
    "print(d)"
   ]
  },
  {
   "cell_type": "code",
   "execution_count": null,
   "id": "7ce12f4e",
   "metadata": {},
   "outputs": [],
   "source": [
    "# 27. Create a list of 5 random numbers between 1 and 100, sort ascending, and print\n",
    "import random\n",
    "lst = [random.randint(1,100) for _ in range(5)]\n",
    "lst.sort()\n",
    "print(lst)"
   ]
  },
  {
   "cell_type": "code",
   "execution_count": null,
   "id": "01834024",
   "metadata": {},
   "outputs": [],
   "source": [
    "# 28. Create a list with strings and print the element at the third index\n",
    "lst = ['zero','one','two','three','four']\n",
    "print(lst[3])"
   ]
  },
  {
   "cell_type": "code",
   "execution_count": null,
   "id": "72c1487b",
   "metadata": {},
   "outputs": [],
   "source": [
    "# 29. Combine two dictionaries into one and print the result\n",
    "d1 = {'a':1}\n",
    "d2 = {'b':2}\n",
    "d = {**d1, **d2}\n",
    "print(d)"
   ]
  },
  {
   "cell_type": "code",
   "execution_count": null,
   "id": "a0853798",
   "metadata": {},
   "outputs": [],
   "source": [
    "# 30. Convert a list of strings into a set\n",
    "lst = ['a','b','a','c']\n",
    "s = set(lst)\n",
    "print(s)"
   ]
  }
 ],
 "metadata": {
  "language_info": {
   "name": "python"
  }
 },
 "nbformat": 4,
 "nbformat_minor": 5
}

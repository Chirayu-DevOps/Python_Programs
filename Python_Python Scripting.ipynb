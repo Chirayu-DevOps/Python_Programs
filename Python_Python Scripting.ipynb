{
 "cells": [
  {
   "cell_type": "markdown",
   "id": "b5e47016",
   "metadata": {},
   "source": [
    "# Python Assignment — Solutions\n"
   ]
  },
  {
   "cell_type": "markdown",
   "id": "9c9f006d",
   "metadata": {},
   "source": [
    "## 1) Develop a simple web scraper to extract data from a website?"
   ]
  },
  {
   "cell_type": "code",
   "execution_count": null,
   "id": "d8d7e776",
   "metadata": {},
   "outputs": [],
   "source": [
    "import requests\n",
    "from bs4 import BeautifulSoup\n",
    "\n",
    "url=\"https://quotes.toscrape.com/\" \n",
    "response = requests.get(url)\n",
    "\n",
    "soup=BeautifulSoup(response.text,'html.parser')\n",
    "quotes=soup.find_all(\"span\",class_=\"text\")\n",
    "authors=soup.find_all(\"small\",class_=\"author\")\n",
    "\n",
    "for quote,author in zip(quotes,authors):\n",
    "    print(f\"{quote.text} - {author.text}\")"
   ]
  },
  {
   "cell_type": "markdown",
   "id": "7b7e9018",
   "metadata": {},
   "source": [
    "## 2) Write Python scripts for basic file operations and data processing?"
   ]
  },
  {
   "cell_type": "code",
   "execution_count": null,
   "id": "2d808657",
   "metadata": {},
   "outputs": [],
   "source": [
    "import os\n",
    "print(os.listdir())\n",
    "cwd=os.getcwd()\n",
    "print(\"Current Working Directory: \",cwd)\n",
    "\n",
    "# #Create new directory\n",
    "new_dir=\"demo_folder\"\n",
    "if not os.path.exists(new_dir):\n",
    "    os.mkdir(new_dir)\n",
    "    print(f\"Created directory: {new_dir}\")\n",
    "\n",
    "# #Rename Directory\n",
    "rename_dir=\"rename_folder\"\n",
    "if not os.path.exists(rename_dir):\n",
    "    os.rename(new_dir,rename_dir)\n",
    "    print(f\"Rename {new_dir} to {rename_dir}\")\n",
    "\n",
    "# #Remove \n",
    "os.rmdir(rename_dir)\n",
    "print(f\"Removed {rename_dir}\")"
   ]
  }
 ],
 "metadata": {
  "language_info": {
   "name": "python"
  }
 },
 "nbformat": 4,
 "nbformat_minor": 5
}
